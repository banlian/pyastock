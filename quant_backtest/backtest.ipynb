{
 "cells": [
  {
   "cell_type": "code",
   "execution_count": 1,
   "metadata": {
    "collapsed": true,
    "pycharm": {
     "name": "#%%\n"
    }
   },
   "outputs": [
    {
     "name": "stdout",
     "output_type": "stream",
     "text": [
      "['2021-09-01', '2021-09-02', '2021-09-03', '2021-09-06', '2021-09-07', '2021-09-08', '2021-09-09', '2021-09-10', '2021-09-13', '2021-09-14', '2021-09-15', '2021-09-16', '2021-09-17', '2021-09-22', '2021-09-23', '2021-09-24', '2021-09-27', '2021-09-28', '2021-09-29', '2021-09-30', '2021-10-08', '2021-10-11', '2021-10-12', '2021-10-13', '2021-10-14', '2021-10-15', '2021-10-18', '2021-10-19', '2021-10-20', '2021-10-21', '2021-10-22', '2021-10-25', '2021-10-26', '2021-10-27', '2021-10-28', '2021-10-29', '2021-11-01', '2021-11-02', '2021-11-03', '2021-11-04', '2021-11-05', '2021-11-08', '2021-11-09', '2021-11-10', '2021-11-11', '2021-11-12', '2021-11-15', '2021-11-16', '2021-11-17', '2021-11-18', '2021-11-19', '2021-11-22', '2021-11-23', '2021-11-24', '2021-11-25', '2021-11-26', '2021-11-29', '2021-11-30', '2021-12-01', '2021-12-02', '2021-12-03', '2021-12-06', '2021-12-07', '2021-12-08', '2021-12-09', '2021-12-10', '2021-12-13', '2021-12-14', '2021-12-15', '2021-12-16', '2021-12-17', '2021-12-20', '2021-12-21', '2021-12-22', '2021-12-23', '2021-12-24']\n"
     ]
    }
   ],
   "source": [
    "from quant.quant_backtrack_base import get_trade_days\n",
    "\n",
    "tradedays = get_trade_days('2021-09-01', '')\n",
    "\n",
    "print(tradedays)\n"
   ]
  },
  {
   "cell_type": "code",
   "execution_count": 6,
   "outputs": [],
   "source": [
    "\n",
    "from stockbase.stock_reader import get_kdf_from_pkl\n",
    "\n",
    "df = get_kdf_from_pkl(600036)\n",
    "\n",
    "dfu = df[df['date'] <= '2021-09-04']\n",
    "\n",
    "\n"
   ],
   "metadata": {
    "collapsed": false,
    "pycharm": {
     "name": "#%%\n"
    }
   }
  },
  {
   "cell_type": "code",
   "execution_count": null,
   "outputs": [],
   "source": [
    "import time\n",
    "\n",
    "from stockbase.stock_reader import get_kdf_from_pkl\n",
    "\n",
    "\n",
    "class Strategy(object):\n",
    "\n",
    "    def __init__(self):\n",
    "        pass\n",
    "\n",
    "    def run(self, ctx, stock, date):\n",
    "        df = ctx.dfs[stock]\n",
    "        if df is not None:\n",
    "            df = df[df['date'] <= date]\n",
    "\n",
    "            close = df['close'].values[-1]\n",
    "            open = df['open'].values[-1]\n",
    "            close2 = df['close'].values[-2]\n",
    "\n",
    "            if open > close2 and close > open:\n",
    "                ctx.buy(stock, 100)\n",
    "                return 1\n",
    "            else:\n",
    "                ctx.sell(stock, 100)\n",
    "                return -1\n",
    "\n",
    "        pass\n",
    "\n",
    "\n",
    "class QuantBacktest(object):\n",
    "\n",
    "    def __init__(self):\n",
    "        self.dfs = {}\n",
    "        self.selectfun = None\n",
    "        self.strategy = Strategy()\n",
    "        self.orders = []\n",
    "        self.positions = {}\n",
    "\n",
    "        self.startdate = '2021-09-01'\n",
    "        self.enddate = ''\n",
    "\n",
    "        self.curday = ''\n",
    "        self._stocks = []\n",
    "        pass\n",
    "\n",
    "    def buy(self, s, amount):\n",
    "        if s in self.positions.keys():\n",
    "            self.positions[s] = self.positions[s] + amount\n",
    "            self.orders.append((self.curday, 'buy', s, amount))\n",
    "        else:\n",
    "            self.positions[s] = amount\n",
    "            self.orders.append((self.curday, 'buy', s, amount))\n",
    "        pass\n",
    "\n",
    "    def sell(self, s, amount):\n",
    "        if s in self.positions.keys():\n",
    "            pa = self.positions[s]\n",
    "            if pa >= amount:\n",
    "                self.positions[s] = self.positions[s] - amount\n",
    "                self.orders.append((self.curday, 'sell', s, amount))\n",
    "            else:\n",
    "                self.positions[s] = 0\n",
    "        else:\n",
    "            self.orders.append((self.curday, 'sell0', s, amount))\n",
    "            pass\n",
    "\n",
    "        pass\n",
    "\n",
    "    def update_data(self, date):\n",
    "        for s in self._stocks:\n",
    "            if s not in self.dfs.keys():\n",
    "                self.dfs[s] = get_kdf_from_pkl(s)\n",
    "            else:\n",
    "                pass\n",
    "        pass\n",
    "\n",
    "    def select_stocks(self, date):\n",
    "        self._stocks = [600036]\n",
    "        pass\n",
    "\n",
    "    def trade_stocks(self, date):\n",
    "        for s in self._stocks:\n",
    "            self.strategy.run(self, s, date)\n",
    "        pass\n",
    "\n",
    "    def run(self):\n",
    "\n",
    "        t0 = time.time()\n",
    "        tradedays = get_trade_days(self.startdate, self.enddate)\n",
    "        print(f'run start {tradedays[0]}')\n",
    "        for d in tradedays:\n",
    "            print(d)\n",
    "            t00 = time.time()\n",
    "            self.curday = d\n",
    "\n",
    "            self.select_stocks(d)\n",
    "\n",
    "            self.update_data(d)\n",
    "\n",
    "            self.trade_stocks(d)\n",
    "\n",
    "            et00 = time.time() - t00\n",
    "            print(f'run {d} {et00:.3f} s')\n",
    "\n",
    "        et0 = time.time() - t0\n",
    "        print(f'run finish {tradedays[0]}- {tradedays[-1]} by {et0:.3f} s')\n",
    "        pass\n",
    "\n",
    "\n",
    "t = QuantBacktest()\n",
    "\n",
    "t.startdate = '2021-09-01'\n",
    "\n",
    "t.run()\n",
    "\n",
    "\n"
   ],
   "metadata": {
    "collapsed": false,
    "pycharm": {
     "name": "#%%\n"
    }
   }
  }
 ],
 "metadata": {
  "kernelspec": {
   "display_name": "Python 3",
   "language": "python",
   "name": "python3"
  },
  "language_info": {
   "codemirror_mode": {
    "name": "ipython",
    "version": 2
   },
   "file_extension": ".py",
   "mimetype": "text/x-python",
   "name": "python",
   "nbconvert_exporter": "python",
   "pygments_lexer": "ipython2",
   "version": "2.7.6"
  }
 },
 "nbformat": 4,
 "nbformat_minor": 0
}