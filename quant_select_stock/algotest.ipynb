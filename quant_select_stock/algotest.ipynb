{
 "cells": [
  {
   "cell_type": "code",
   "execution_count": null,
   "metadata": {
    "collapsed": true
   },
   "outputs": [],
   "source": [
    "from algo1_daypct import *\n",
    "\n",
    "# 最近大涨的股票\n",
    "algo = MaxPctDay(5, 40)\n",
    "\n",
    "stocks = quant_run_select_stocks([algo], 0, 'MaxPctDay1')\n",
    "\n",
    "for s in stocks:\n",
    "    print(f'{s[0]:0>6d}', db_id_to_name(s[0]), s[1], db_select_marketval(s[0]))"
   ]
  },
  {
   "cell_type": "code",
   "execution_count": null,
   "outputs": [],
   "source": [
    "# 近六日大跌\n",
    "algo = MaxPctDay(6, -10)\n",
    "\n",
    "stocks = quant_run_select_stocks([algo], 0, 'MaxPctDay0')\n",
    "\n",
    "for s in stocks:\n",
    "    print(f'{s[0]:0>6d}', db_id_to_name(s[0]), s[1], db_select_marketval(s[0]))\n"
   ],
   "metadata": {
    "collapsed": false,
    "pycharm": {
     "name": "#%%\n"
    }
   }
  },
  {
   "cell_type": "code",
   "execution_count": null,
   "outputs": [],
   "source": [
    "from quant.quant_select_stock_base import *\n",
    "\n",
    "from algo1_daypct import *\n",
    "\n",
    "# 股价新高\n",
    "\n",
    "c0 = MaxPriceDay(60)\n",
    "\n",
    "stocks = quant_run_select_stocks([c0], 0, 'MaxPriceDay')\n",
    "print(len(stocks))\n",
    "for s in stocks:\n",
    "    mv = db_select_marketval(s[0])\n",
    "    if mv > 100:\n",
    "        print(f'{s[0]:0>6d}', db_id_to_name(s[0]), s[1], db_select_marketval(s[0]))\n"
   ],
   "metadata": {
    "collapsed": false,
    "pycharm": {
     "name": "#%%\n"
    }
   }
  },
  {
   "cell_type": "code",
   "execution_count": null,
   "outputs": [],
   "source": [
    "from quant_select_stock.algo2_macross5 import *\n",
    "\n",
    "# 均线穿越\n",
    "\n",
    "f0 = MaCross5()\n",
    "\n",
    "funcs = [f0]\n",
    "\n",
    "stocks = quant_run_select_stocks(funcs, 0, f0.desc)\n",
    "\n",
    "for s in stocks:\n",
    "    print(f'{s[0]:0>6d}', db_id_to_name(s[0]), s[1], db_select_marketval(s[0]))\n"
   ],
   "metadata": {
    "collapsed": false,
    "pycharm": {
     "name": "#%%\n"
    }
   }
  },
  {
   "cell_type": "code",
   "execution_count": null,
   "outputs": [],
   "source": [
    "#均线多头\n",
    "\n"
   ],
   "metadata": {
    "collapsed": false,
    "pycharm": {
     "name": "#%%\n"
    }
   }
  },
  {
   "cell_type": "code",
   "execution_count": null,
   "outputs": [],
   "source": [
    "from quant.quant_select_stock_base import *\n",
    "\n",
    "from quant_select_stock.algo2_macross import MaSequence\n",
    "\n",
    "f0 = MaSequence()\n",
    "f0.ndays = 7\n",
    "\n",
    "funcs = [f0]\n",
    "\n",
    "stocks = quant_run_select_stocks(funcs, 0, f0.desc)\n",
    "\n",
    "for s in stocks:\n",
    "    print(f'{s[0]:0>6d}', db_id_to_name(s[0]), s[1], db_select_marketval(s[0]))\n",
    "\n"
   ],
   "metadata": {
    "collapsed": false,
    "pycharm": {
     "name": "#%%\n"
    }
   }
  },
  {
   "cell_type": "code",
   "execution_count": null,
   "outputs": [],
   "source": [
    "# rsi 超卖\n",
    "from quant.quant_select_stock_base import *\n",
    "from MyTT import *\n",
    "import numpy as np\n",
    "\n",
    "np.seterr(divide='ignore', invalid='ignore')\n",
    "\n",
    "\n",
    "class RsiTriggered(SelectFuncObj):\n",
    "    def __init__(self):\n",
    "        super().__init__()\n",
    "        self.rsi_threshold = 30\n",
    "        self.desc = f'rsi_{self.rsi_threshold}'\n",
    "\n",
    "    def run(self, df, stock, dayoffset):\n",
    "        if df is None:\n",
    "            return False\n",
    "        if df.empty or df.shape[0] < 150:\n",
    "            return False\n",
    "\n",
    "        try:\n",
    "            closes = df['close'].dropna()\n",
    "\n",
    "            rsi = RSI(closes, 10)\n",
    "            r = rsi[-1]\n",
    "            r1 = rsi[-2]\n",
    "            r2 = rsi[-3]\n",
    "            if r < self.rsi_threshold and r2 > r1 and r > r1:\n",
    "                self.ret = f'rsi_{r:.2f}'\n",
    "                return True\n",
    "        except:\n",
    "            print(stock)\n",
    "            return False\n",
    "        return False\n",
    "\n",
    "        pass\n",
    "\n",
    "\n",
    "f0 = RsiTriggered()\n",
    "\n",
    "funcs = [f0]\n",
    "\n",
    "stocks = quant_run_select_stocks(funcs, 0, f0.desc)\n",
    "\n",
    "for s in stocks:\n",
    "    print(f'{s[0]:0>6d}', db_id_to_name(s[0]), s[1], db_select_marketval(s[0]))\n",
    "\n"
   ],
   "metadata": {
    "collapsed": false,
    "pycharm": {
     "name": "#%%\n"
    }
   }
  },
  {
   "cell_type": "code",
   "execution_count": 28,
   "outputs": [
    {
     "name": "stdout",
     "output_type": "stream",
     "text": [
      "run rsi_55\n",
      "algo rsi_55_rsi_55\n",
      "quant select date: 2022-01-06 00:00:00\n",
      "\n",
      "rsi_55\n",
      "found 12 stocks by 15.84 s !\n",
      "finish\n",
      "000860 顺鑫农业 rsi_53.68 291.21772\n",
      "002958 青农商行 rsi_54.06 215.00177\n",
      "300177 中海达 rsi_54.51 71.812315\n",
      "300250 初灵信息 rsi_53.51 28.994669\n",
      "300298 三诺生物 rsi_53.61 171.06828\n",
      "300738 奥飞数据 rsi_54.01 86.480679\n",
      "600048 保利发展 rsi_54.61 1856.5637\n",
      "600101 明星电力 rsi_54.14 31.73388\n",
      "600475 华光环能 rsi_54.86 86.201608\n",
      "600505 西昌电力 rsi_54.71 36.857774\n",
      "601952 苏垦农发 rsi_54.28 171.6988\n",
      "603721 中广天择 rsi_54.91 20.774\n"
     ]
    }
   ],
   "source": [
    "# rsi 超卖\n",
    "from quant.quant_select_stock_base import *\n",
    "from MyTT import *\n",
    "import numpy as np\n",
    "\n",
    "np.seterr(divide='ignore', invalid='ignore')\n",
    "\n",
    "\n",
    "class Rsi50Ma(SelectFuncObj):\n",
    "    def __init__(self):\n",
    "        super().__init__()\n",
    "        self.rsi_threshold = 55\n",
    "        self.desc = f'rsi_{self.rsi_threshold}'\n",
    "\n",
    "    def run(self, df, stock, dayoffset):\n",
    "        if df is None:\n",
    "            return False\n",
    "        if df.empty or df.shape[0] < 150:\n",
    "            return False\n",
    "\n",
    "        try:\n",
    "            closes = df['close'].dropna()\n",
    "            close = closes.values[-1]\n",
    "            rsi = RSI(closes, 6)\n",
    "            r = rsi[-1]\n",
    "\n",
    "            ma5 = MA(closes, 5)\n",
    "            ma10 = MA(closes, 10)\n",
    "            ma20 = MA(closes, 20)\n",
    "            ma30 = MA(closes, 30)\n",
    "            mat = ma30[-1] <= ma20[-1] <= ma10[-1] <= ma5[-1]\n",
    "\n",
    "            if r < self.rsi_threshold and close> ma5[-1] and mat:\n",
    "                self.ret = f'rsi_{r:.2f}'\n",
    "                return True\n",
    "        except Exception as e:\n",
    "            print(stock, e)\n",
    "            raise e\n",
    "            return False\n",
    "        return False\n",
    "\n",
    "        pass\n",
    "\n",
    "\n",
    "f0 = Rsi50Ma()\n",
    "\n",
    "funcs = [f0]\n",
    "\n",
    "stocks = quant_run_select_stocks(funcs, 0, f0.desc)\n",
    "\n",
    "for s in stocks:\n",
    "    print(f'{s[0]:0>6d}', db_id_to_name(s[0]), s[1], db_select_marketval(s[0]))\n",
    "\n",
    "\n",
    "\n"
   ],
   "metadata": {
    "collapsed": false,
    "pycharm": {
     "name": "#%%\n"
    }
   }
  },
  {
   "cell_type": "code",
   "execution_count": null,
   "outputs": [],
   "source": [
    "from quant.quant_select_stock_base import *\n",
    "from MyTT import *\n",
    "import numpy as np\n",
    "\n",
    "np.seterr(divide='ignore', invalid='ignore')\n",
    "\n",
    "\n",
    "class Ma60Triggered(SelectFuncObj):\n",
    "    def __init__(self):\n",
    "        super().__init__()\n",
    "\n",
    "        self.desc = f'ma60trigger'\n",
    "\n",
    "    def run(self, df, stock, dayoffset):\n",
    "        if df is None:\n",
    "            return False\n",
    "        if df.empty or df.shape[0] < 150:\n",
    "            return False\n",
    "\n",
    "        try:\n",
    "            closes = df['close'].dropna()\n",
    "            lows = df['low'].dropna()\n",
    "            low = lows.values[-1]\n",
    "            close = closes.values[-1]\n",
    "            ma60 = MA(closes, 60)\n",
    "            ma = ma60[-1]\n",
    "            rsi = RSI(closes, 10)\n",
    "            r = rsi[-1]\n",
    "            print(low, close, ma, r)\n",
    "            if low < ma and close > ma and r < 45:\n",
    "                self.ret = f'ma60_{ma}_rsi_{r}'\n",
    "                return True\n",
    "        except Exception as ex:\n",
    "            print(stock, ex)\n",
    "            raise RuntimeError()\n",
    "            return False\n",
    "        return False\n",
    "\n",
    "        pass\n",
    "\n",
    "\n",
    "df = get_kdf_from_pkl(401)\n",
    "# print(df)\n",
    "\n",
    "\n",
    "f0 = Ma60Triggered()\n",
    "ret = f0.run(df, 401, -1)\n"
   ],
   "metadata": {
    "collapsed": false,
    "pycharm": {
     "name": "#%%\n"
    }
   }
  },
  {
   "cell_type": "code",
   "execution_count": null,
   "outputs": [],
   "source": [
    "f0 = Ma60Triggered()\n",
    "\n",
    "funcs = [f0]\n",
    "\n",
    "stocks = quant_run_select_stocks(funcs, 0, f0.desc)\n",
    "\n",
    "for s in stocks:\n",
    "    print(f'{s[0]:0>6d}', db_id_to_name(s[0]), s[1], db_select_marketval(s[0]))\n",
    "\n"
   ],
   "metadata": {
    "collapsed": false,
    "pycharm": {
     "name": "#%%\n"
    }
   }
  },
  {
   "cell_type": "code",
   "execution_count": null,
   "outputs": [],
   "source": [
    "# 股价新高 均线多头\n",
    "\n",
    "from quant.quant_select_stock_base import *\n",
    "from MyTT import *\n",
    "import numpy as np\n",
    "\n",
    "np.seterr(divide='ignore', invalid='ignore')\n",
    "\n",
    "\n",
    "class NewHighPrice(SelectFuncObj):\n",
    "    def __init__(self, n=60):\n",
    "        super().__init__()\n",
    "        self.ndays = n\n",
    "        self.desc = f'newhigh{self.ndays}'\n",
    "\n",
    "    def run(self, df, stock, dayoffset):\n",
    "        if df is None:\n",
    "            return False\n",
    "        if df.empty or df.shape[0] < self.ndays:\n",
    "            return False\n",
    "\n",
    "        highs = df['high']\n",
    "        closes = df['close']\n",
    "\n",
    "        m = max(highs.values[-self.ndays:-1])\n",
    "        close = closes.values[-1]\n",
    "        if close >= m:\n",
    "            close60 = closes.values[-80:]\n",
    "            ma5 = MA(close60, 5)\n",
    "            ma10 = MA(close60, 10)\n",
    "            ma20 = MA(close60, 20)\n",
    "            ma30 = MA(close60, 60)\n",
    "            if ma30[-1] <= ma20[-1] <= ma10[-1] <= ma5[-1]:\n",
    "                self.ret = f'high:{m:.2f} close:{close:.2f}'\n",
    "                return True\n",
    "        return False\n",
    "\n",
    "\n",
    "f0 = NewHighPrice(90)\n",
    "\n",
    "funcs = [f0]\n",
    "\n",
    "stocks = quant_run_select_stocks(funcs, 0, f0.desc)\n",
    "\n",
    "for s in stocks:\n",
    "    print(f'{s[0]:0>6d}', db_id_to_name(s[0]), s[1], f'mv: {db_select_marketval(s[0]):.1f}')\n"
   ],
   "metadata": {
    "collapsed": false,
    "pycharm": {
     "name": "#%%\n"
    }
   }
  },
  {
   "cell_type": "code",
   "execution_count": null,
   "outputs": [],
   "source": [
    "# 股价新低\n",
    "\n",
    "from quant.quant_select_stock_base import *\n",
    "from MyTT import *\n",
    "import numpy as np\n",
    "\n",
    "np.seterr(divide='ignore', invalid='ignore')\n",
    "\n",
    "\n",
    "class NewLowPrice(SelectFuncObj):\n",
    "    def __init__(self, n=60):\n",
    "        super().__init__()\n",
    "        self.ndays = n\n",
    "        self.desc = f'newlow{self.ndays}'\n",
    "\n",
    "    def run(self, df, stock, dayoffset):\n",
    "        if df is None:\n",
    "            return False\n",
    "        if df.empty or df.shape[0] < self.ndays:\n",
    "            return False\n",
    "\n",
    "        highs = df['low']\n",
    "        closes = df['close']\n",
    "\n",
    "        rsi = RSI(closes, 6)\n",
    "        r = rsi[-1]\n",
    "\n",
    "        m = min(highs.values[-self.ndays:-1])\n",
    "        close = closes.values[-1]\n",
    "        low = highs.values[-1]\n",
    "        if close >= m and low <= m and r < 35:\n",
    "            self.ret = f'low:{m:.2f} close:{close:.2f} rsi:{r:.1f}'\n",
    "            return True\n",
    "            # close60 = closes.values[-80:]\n",
    "            # ma5 = MA(close60, 5)\n",
    "            # ma10 = MA(close60, 10)\n",
    "            # ma20 = MA(close60, 20)\n",
    "            # ma30 = MA(close60, 60)\n",
    "            # if ma30[-1] <= ma20[-1] <= ma10[-1] <= ma5[-1]:\n",
    "            #     self.ret = f'high:{m:.2f} close:{close:.2f}'\n",
    "            #     return True\n",
    "        return False\n",
    "\n",
    "\n",
    "f0 = NewLowPrice(120)\n",
    "\n",
    "funcs = [f0]\n",
    "\n",
    "stocks = quant_run_select_stocks(funcs, 0, f0.desc)\n",
    "\n",
    "for s in stocks:\n",
    "    print(f'{s[0]:0>6d}', db_id_to_name(s[0]), s[1], f'mv: {db_select_marketval(s[0]):.1f}')\n"
   ],
   "metadata": {
    "collapsed": false,
    "pycharm": {
     "name": "#%%\n"
    }
   }
  }
 ],
 "metadata": {
  "kernelspec": {
   "name": "python3",
   "language": "python",
   "display_name": "Python 3 (ipykernel)"
  },
  "language_info": {
   "codemirror_mode": {
    "name": "ipython",
    "version": 2
   },
   "file_extension": ".py",
   "mimetype": "text/x-python",
   "name": "python",
   "nbconvert_exporter": "python",
   "pygments_lexer": "ipython2",
   "version": "2.7.6"
  }
 },
 "nbformat": 4,
 "nbformat_minor": 0
}