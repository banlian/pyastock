{
 "cells": [
  {
   "cell_type": "code",
   "execution_count": null,
   "metadata": {
    "collapsed": true
   },
   "outputs": [],
   "source": [
    "\n",
    "from stockbase.stock_db import *\n",
    "from stockbase.stock_reader import *\n",
    "\n",
    "\n",
    "stocks = db_select_stockids()\n",
    "\n",
    "print(stocks)\n",
    "\n",
    "\n"
   ]
  },
  {
   "cell_type": "code",
   "execution_count": null,
   "metadata": {
    "pycharm": {
     "name": "#%%\n"
    }
   },
   "outputs": [],
   "source": [
    "s = 1\n",
    "\n",
    "with open('test_pct.csv', 'w') as f:\n",
    "    f.write('name,code,pct,p0,p1,date\\n')\n",
    "    for s in stocks:\n",
    "        df = get_kdf_from_pkl(s)\n",
    "        if df is None:\n",
    "            continue\n",
    "        df = df.dropna(axis=0)\n",
    "        # print(df)\n",
    "        try:\n",
    "            df0 = df[df['date']=='2019-01-02']\n",
    "            if df0.empty:\n",
    "                r0 = df.iloc[0,:]\n",
    "            else:\n",
    "                r0= df0.iloc[0,:]\n",
    "            date0 = r0['date']\n",
    "            c0 = r0['close']\n",
    "            r1 = df.iloc[-1,:]\n",
    "            c1 = r1['close']\n",
    "            pct = round((c1-c0)/c0*100,2)\n",
    "            name = db_id_to_name(s)\n",
    "\n",
    "            f.write(f'{name},{s:06},{pct},{c0},{c1},{date0}\\n')\n",
    "        except Exception as ex:\n",
    "            print(s, db_id_to_name(s))\n",
    "\n",
    "print('pct finish')\n"
   ]
  },
  {
   "cell_type": "code",
   "execution_count": null,
   "metadata": {
    "pycharm": {
     "name": "#%%\n"
    }
   },
   "outputs": [],
   "source": [
    "import pandas as pd\n",
    "\n",
    "\n",
    "df = pd.read_csv('test_pct.csv', encoding='gbk')\n",
    "print(df.columns)\n",
    "print(df.index)\n",
    "print(df.iloc[0,:])\n",
    "\n",
    "df0 = df.sort_values(by='pct', ascending=False)\n",
    "\n"
   ]
  },
  {
   "cell_type": "code",
   "execution_count": null,
   "metadata": {
    "pycharm": {
     "name": "#%%\n"
    }
   },
   "outputs": [],
   "source": [
    "import matplotlib.pyplot as plt\n",
    "\n",
    "\n",
    "plt.hist(df0['pct'], bins=100)\n",
    "plt.grid('on')\n",
    "plt.show()\n",
    "\n"
   ]
  },
  {
   "cell_type": "code",
   "execution_count": null,
   "metadata": {
    "pycharm": {
     "name": "#%%\n"
    }
   },
   "outputs": [],
   "source": [
    "\n",
    "from stockbase.stock_db import *\n",
    "from stockbase.stock_reader import *\n",
    "\n",
    "\n",
    "stocks = db_select_stockids()\n",
    "\n",
    "print(stocks)\n",
    "\n",
    "for s in stocks:\n",
    "    try:\n",
    "        # file = r'..\\rawdata\\{}.pkl'.format(get_pkl_filename(s))\n",
    "        # df = get_kdf_from_pkl(s)\n",
    "        # dfn = df[df['date'] >= '2021-12-27']\n",
    "        # if not dfn.empty:\n",
    "        #     dfn['pctChg']=dfn['pctChg']/100\n",
    "        #     dfn['turn']=dfn['turn']/100\n",
    "        #     df.update(dfn)\n",
    "        #     df.to_pickle(file)\n",
    "        #     print(file)\n",
    "    except Exception as e:\n",
    "        print(f'{s} {e}')"
   ]
  },
  {
   "cell_type": "code",
   "execution_count": null,
   "metadata": {
    "pycharm": {
     "name": "#%%\n"
    }
   },
   "outputs": [],
   "source": [
    "print(stocks[-1])\n",
    "\n",
    "\n",
    "df = get_kdf_from_pkl(600036)\n",
    "\n",
    "# print(df.tail(8))\n",
    "\n",
    "r = df.iloc[-1,:]\n",
    "print(r)\n",
    "\n",
    "wclose = r['amount']/r['volume']\n",
    "print(wclose)\n",
    "\n",
    "df['wc'] = df['amount']/df['volume']\n",
    "\n",
    "df['wc']\n",
    "\n",
    "# from MyTT import *\n",
    "#\n",
    "# ma60w = MA(df['wc'], 60)\n",
    "# print(ma60w)\n"
   ]
  },
  {
   "cell_type": "code",
   "execution_count": 45,
   "metadata": {
    "pycharm": {
     "name": "#%%\n"
    }
   },
   "outputs": [
    {
     "data": {
      "image/png": "[encoded data removed]",
      "text/plain": [
       "<Figure size 432x288 with 1 Axes>"
      ]
     },
     "metadata": {
      "needs_background": "light"
     },
     "output_type": "display_data"
    }
   ],
   "source": [
    "\n",
    "import matplotlib.pyplot as plt\n",
    "\n",
    "vals = df['wc'].values[-120:]\n",
    "\n",
    "plt.hist(vals, bins=60)\n",
    "plt.grid()\n",
    "plt.show()"
   ]
  }
 ],
 "metadata": {
  "kernelspec": {
   "display_name": "Python 3 (ipykernel)",
   "language": "python",
   "name": "python3"
  },
  "language_info": {
   "codemirror_mode": {
    "name": "ipython",
    "version": 3
   },
   "file_extension": ".py",
   "mimetype": "text/x-python",
   "name": "python",
   "nbconvert_exporter": "python",
   "pygments_lexer": "ipython3",
   "version": "3.9.9"
  }
 },
 "nbformat": 4,
 "nbformat_minor": 1
}