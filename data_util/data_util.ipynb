{
 "cells": [
  {
   "cell_type": "code",
   "execution_count": null,
   "metadata": {
    "collapsed": true
   },
   "outputs": [],
   "source": [
    "import math\n",
    "\n",
    "from data_util.db_util import *\n",
    "import pandas as pd\n",
    "import datetime\n",
    "\n",
    "now = datetime.datetime.now()\n",
    "date = now.strftime('%m%d')\n",
    "dateindex = now.strftime('%Y-%m-%d')\n",
    "print(dateindex, date)\n",
    "file = '../temp/Table{}.xls'.format(date)\n"
   ]
  },
  {
   "cell_type": "code",
   "execution_count": null,
   "metadata": {
    "pycharm": {
     "name": "#%%\n"
    }
   },
   "outputs": [],
   "source": [
    "from data_util.db_util import *\n",
    "import pandas as pd\n",
    "import datetime\n",
    "file = '../temp/Table0111.xls'\n",
    "\n",
    "df = pd.read_csv(file, encoding='gbk', sep='\\t')\n",
    "df['涨幅'] = df['涨幅'].str.strip('%')\n",
    "df['5日涨幅'] = df['5日涨幅'].str.strip('%')\n",
    "df['换手'] = df['换手'].str.strip('%')\n",
    "print(df.columns)\n",
    "\n",
    "\n"
   ]
  },
  {
   "cell_type": "code",
   "execution_count": null,
   "outputs": [],
   "source": [
    "#treemap\n",
    "import math\n",
    "import sqlite3\n",
    "import time\n",
    "\n",
    "import pandas as pd\n",
    "\n",
    "from pylab import mpl\n",
    "\n",
    "from data_util.helper import read_ths_xlsx_to_df\n",
    "\n",
    "mpl.rcParams['font.sans-serif'] = ['SimHei']  # 指定默认字体\n",
    "mpl.rcParams['axes.unicode_minus'] = False  # 解决保存图像是负号'-'显示为方块的问题\n",
    "\n",
    "\n",
    "\n",
    "def mapcolor(v):\n",
    "    # v = v * 100\n",
    "    rg = [-4, -3, -2, -1, -0.5, -0.05, 0.05, 0.5, 1, 2, 3, 4]\n",
    "    colors = ['#00d641', '#1aa448', '#0e6f2f', '#085421', '#083721', '#082221', '#424453', '#4d1414', '#6d1414', '#961010', '#be0808', '#e41414']\n",
    "\n",
    "    for r in rg:\n",
    "        if v < r:\n",
    "            return colors[rg.index(r)]\n",
    "    return colors[-1]\n",
    "\n",
    "\n",
    "def mapcolors():\n",
    "    # colors = ['#00d641', '#1aa448', '#0e6f2f', '#085421', '#424453', '#6d1414', '#961010', '#be0808', '#e41414']\n",
    "    colors = ['#00d641', '#1aa448', '#0e6f2f', '#085421', '#083721', '#082221', '#424453', '#4d1414', '#6d1414', '#961010', '#be0808', '#e41414']\n",
    "\n",
    "    ret = {}\n",
    "    for c in colors:\n",
    "        ret[c] = c\n",
    "    return ret\n",
    "    pass\n",
    "\n",
    "\n",
    "df = pd.read_csv('../temp/Table0110.xls', encoding='gbk', sep='\\t')\n",
    "df['涨幅'] = df['涨幅'].str.strip('%')\n",
    "df['换手'] = df['换手'].str.strip('%')\n",
    "df['5日涨幅'] = df['5日涨幅'].str.strip('%')\n",
    "\n",
    "df.to_pickle('temp/test.pkl')\n",
    "#df = pd.read_pickle('temp/test.pkl')\n",
    "\n",
    "df = df[['    名称', '总市值', '所属行业', '涨幅', '5日涨幅']]\n",
    "\n",
    "df['总市值'] = pd.to_numeric(df['总市值'], errors='coerce')\n",
    "df['涨幅'] = pd.to_numeric(df['涨幅'], errors='coerce')\n",
    "df['5日涨幅'] = pd.to_numeric(df['5日涨幅'], errors='coerce')\n",
    "df['总市值'] = round(df['总市值'] / 1e8, 1)\n",
    "df['涨幅'] = round(df['5日涨幅'], 1)\n",
    "\n"
   ],
   "metadata": {
    "collapsed": false,
    "pycharm": {
     "name": "#%%\n"
    }
   }
  },
  {
   "cell_type": "code",
   "execution_count": null,
   "outputs": [],
   "source": [
    "df = df[df['总市值'] > 1]\n",
    "\n",
    "df['all'] = 'all'\n",
    "df['color'] = df['涨幅'].map(mapcolor)\n",
    "\n",
    "print(df)\n",
    "\n",
    "import plotly.express as px\n",
    "mcolors = mapcolors()\n",
    "mcolors['(?)'] = '#999999'\n",
    "\n",
    "fig = px.treemap(df,\n",
    "                 path=['all', '所属行业', '    名称'],\n",
    "                 # labels='涨幅',\n",
    "                 # names='    名称',\n",
    "                 values='总市值',\n",
    "                 color='color',\n",
    "                 custom_data=['涨幅'],\n",
    "                 color_discrete_map=mcolors,\n",
    "                 hover_data=['涨幅'],\n",
    "                 )\n",
    "fig.update_traces(root_color=\"lightgray\",\n",
    "                  texttemplate='<b>%{label}</b><br><b>%{value:.2f}</b><br><b>%{customdata[0]:.2f}</b><br>',\n",
    "                  )\n",
    "fig.update_layout(margin=dict(t=1, l=1, r=1, b=1))\n",
    "img = fig.to_image('png')\n",
    "with open('temp/test.png', 'wb') as fs:\n",
    "    fs.write(img)\n",
    "fig.show()"
   ],
   "metadata": {
    "collapsed": false,
    "pycharm": {
     "name": "#%%\n"
    }
   }
  },
  {
   "cell_type": "code",
   "execution_count": null,
   "outputs": [],
   "source": [
    "# 更新db 数据\n",
    "\n",
    "def ts_code(code):\n",
    "    if len(code) == 8:\n",
    "        return f'{code[2:]}.{code[:2]}'\n",
    "    else:\n",
    "        return ''\n",
    "\n",
    "conn = sqlite3.connect('../stocks.db')\n",
    "\n",
    "\n",
    "for i,row in df.iterrows():\n",
    "    code = row.loc['代码']\n",
    "    bk = row.loc['细分行业']\n",
    "    pe = row.loc['TTM市盈率']\n",
    "    pb = row.loc['市净率']\n",
    "    # print(code, bk, pe, pb)\n",
    "    if math.isnan(pe):\n",
    "        pe = 0\n",
    "    if math.isnan(pb):\n",
    "        pb = 0\n",
    "    tc = ts_code(code)\n",
    "    if len(tc)==9:\n",
    "        conn.execute('''update STOCKBASIC set pe={}, pb={}, bk='{}' where ts_code = '{}' '''.format(pe,pb,bk, tc))\n",
    "        # conn.commit()\n",
    "        # print(f'update {i} {tc} {pe} {pb} {bk}')\n",
    "    # break\n",
    "conn.commit()\n",
    "conn.close()\n",
    "print('update finish')\n",
    "\n"
   ],
   "metadata": {
    "collapsed": false,
    "pycharm": {
     "name": "#%%\n"
    }
   }
  },
  {
   "cell_type": "code",
   "execution_count": null,
   "outputs": [],
   "source": [
    "# 查询板块\n",
    "\n",
    "conn = sqlite3.connect('../stocks.db')\n",
    "\n",
    "bks = conn.execute('''select distinct bk from STOCKBASIC''').fetchall()\n",
    "\n",
    "print(len(bks))\n",
    "for bk in bks:\n",
    "    print(bk)\n",
    "\n",
    "conn.close()\n",
    "\n"
   ],
   "metadata": {
    "collapsed": false,
    "pycharm": {
     "name": "#%%\n"
    }
   }
  },
  {
   "cell_type": "code",
   "execution_count": 2,
   "metadata": {
    "pycharm": {
     "name": "#%%\n"
    }
   },
   "outputs": [
    {
     "name": "stdout",
     "output_type": "stream",
     "text": [
      "mv > 10000 count 7\n",
      "10000 > mv > 2000 count 57\n",
      "2000 > mv > 1000 count 99\n",
      "1000 > mv > 500 count 151\n",
      "500 > mv > 100 count 1319\n",
      "100 > mv > 50 count 1188\n",
      "50 > mv > 10 count 1791\n",
      "10 > mv > 0 count 3\n"
     ]
    }
   ],
   "source": [
    "# 查看市值分布\n",
    "import sqlite3\n",
    "\n",
    "def select_mv_count(mv):\n",
    "    conn = sqlite3.connect('../stocks.db')\n",
    "    ret = conn.execute('''select count(*) from STOCKBASIC where marketvalue > {}'''.format(mv)).fetchall()\n",
    "    return ret[0][0]\n",
    "\n",
    "\n",
    "\n",
    "mv = [10000,2000, 1000, 500, 100, 50, 10, 0]\n",
    "\n",
    "# 统计各种市值的数量\n",
    "mvcount = [select_mv_count(v) for v in mv]\n",
    "with open('temp/day_marketvalue.csv', 'w') as fs:\n",
    "    fs.write('marketvalue, count\\n')\n",
    "\n",
    "    for i in range(len(mv)):\n",
    "        mvi = mv[i]\n",
    "        mvcounti = mvcount[i]\n",
    "        if i == 0:\n",
    "            print('mv > {} count {}'.format(mvi, mvcounti))\n",
    "        if i > 0:\n",
    "            print('{} > mv > {} count {}'.format(mv[i - 1], mvi, mvcounti - mvcount[i - 1]))\n",
    "        fs.write('{},{}\\n'.format(mvi, mvcounti))\n",
    "        pass\n"
   ]
  },
  {
   "cell_type": "code",
   "execution_count": null,
   "metadata": {
    "pycharm": {
     "name": "#%%\n"
    }
   },
   "outputs": [],
   "source": [
    "import matplotlib.pyplot as plt\n",
    "\n",
    "#plt.bar(mv, mvcount)\n",
    "plt.plot(range(len(mvcount)), mvcount)\n",
    "plt.grid()\n",
    "plt.show()\n",
    "\n",
    "\n",
    "\n",
    "\n",
    "\n",
    "\n",
    "\n",
    "\n",
    "\n"
   ]
  }
 ],
 "metadata": {
  "kernelspec": {
   "display_name": "Python 3 (ipykernel)",
   "language": "python",
   "name": "python3"
  },
  "language_info": {
   "codemirror_mode": {
    "name": "ipython",
    "version": 3
   },
   "file_extension": ".py",
   "mimetype": "text/x-python",
   "name": "python",
   "nbconvert_exporter": "python",
   "pygments_lexer": "ipython3",
   "version": "3.9.9"
  }
 },
 "nbformat": 4,
 "nbformat_minor": 1
}