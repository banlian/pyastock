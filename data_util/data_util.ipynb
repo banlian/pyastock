{
 "cells": [
  {
   "cell_type": "code",
   "execution_count": 2,
   "metadata": {
    "collapsed": true
   },
   "outputs": [
    {
     "name": "stdout",
     "output_type": "stream",
     "text": [
      "2021-12-20 1220\n"
     ]
    }
   ],
   "source": [
    "from data_util.db_util import update_db_marketvalue\n",
    "import pandas as pd\n",
    "import datetime\n",
    "\n",
    "now = datetime.datetime.now()\n",
    "date = now.strftime('%m%d')\n",
    "dateindex = now.strftime('%Y-%m-%d')\n",
    "print(dateindex, date)"
   ]
  },
  {
   "cell_type": "code",
   "execution_count": 7,
   "outputs": [
    {
     "name": "stdout",
     "output_type": "stream",
     "text": [
      "../temp/Table1220.xls\n",
      "            代码           总市值\n",
      "0     SZ000001  339991690000\n",
      "1     SZ000002  227392500000\n",
      "2     SZ000004    2950017200\n",
      "3     SZ000005    2349951800\n",
      "4     SZ000006    5912978300\n",
      "...        ...           ...\n",
      "4608  SH688799    3564400000\n",
      "4609  SH688800   13989240000\n",
      "4610  SH688819   41207319000\n",
      "4611  SH688981  417870220000\n",
      "4612  SH689009   43993698000\n",
      "\n",
      "[4613 rows x 2 columns]\n"
     ]
    }
   ],
   "source": [
    "import os\n",
    "file = '../temp/Table{}.xls'.format(date)\n",
    "print(file)\n",
    "if os.path.exists(file):\n",
    "    update_db_marketvalue(file)\n",
    "\n"
   ],
   "metadata": {
    "collapsed": false,
    "pycharm": {
     "name": "#%%\n"
    }
   }
  },
  {
   "cell_type": "code",
   "execution_count": null,
   "outputs": [],
   "source": [],
   "metadata": {
    "collapsed": false,
    "pycharm": {
     "name": "#%%\n"
    }
   }
  }
 ],
 "metadata": {
  "kernelspec": {
   "display_name": "Python 3",
   "language": "python",
   "name": "python3"
  },
  "language_info": {
   "codemirror_mode": {
    "name": "ipython",
    "version": 2
   },
   "file_extension": ".py",
   "mimetype": "text/x-python",
   "name": "python",
   "nbconvert_exporter": "python",
   "pygments_lexer": "ipython2",
   "version": "2.7.6"
  }
 },
 "nbformat": 4,
 "nbformat_minor": 0
}