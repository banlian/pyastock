{
 "cells": [
  {
   "cell_type": "code",
   "execution_count": null,
   "metadata": {
    "collapsed": true
   },
   "outputs": [],
   "source": [
    "import math\n",
    "\n",
    "from data_util.db_util import *\n",
    "import pandas as pd\n",
    "import datetime\n",
    "\n",
    "now = datetime.datetime.now()\n",
    "date = now.strftime('%m%d')\n",
    "dateindex = now.strftime('%Y-%m-%d')\n",
    "print(dateindex, date)\n",
    "file = '../temp/Table{}.xls'.format(date)\n"
   ]
  },
  {
   "cell_type": "code",
   "execution_count": null,
   "metadata": {
    "pycharm": {
     "name": "#%%\n"
    }
   },
   "outputs": [],
   "source": [
    "from data_util.db_util import *\n",
    "import pandas as pd\n",
    "import datetime\n",
    "file = '../temp/Table0107.xls'\n",
    "\n",
    "df = pd.read_csv(file, encoding='gbk', sep='\\t')\n",
    "df['涨幅'] = df['涨幅'].str.strip('%')\n",
    "df['换手'] = df['换手'].str.strip('%')\n",
    "print(df.columns)\n",
    "\n"
   ]
  },
  {
   "cell_type": "code",
   "execution_count": null,
   "outputs": [],
   "source": [
    "# 更新db 数据\n",
    "\n",
    "def ts_code(code):\n",
    "    if len(code) == 8:\n",
    "        return f'{code[2:]}.{code[:2]}'\n",
    "    else:\n",
    "        return ''\n",
    "\n",
    "conn = sqlite3.connect('../stocks.db')\n",
    "\n",
    "\n",
    "for i,row in df.iterrows():\n",
    "    code = row.loc['代码']\n",
    "    bk = row.loc['细分行业']\n",
    "    pe = row.loc['TTM市盈率']\n",
    "    pb = row.loc['市净率']\n",
    "    # print(code, bk, pe, pb)\n",
    "    if math.isnan(pe):\n",
    "        pe = 0\n",
    "    if math.isnan(pb):\n",
    "        pb = 0\n",
    "    tc = ts_code(code)\n",
    "    if len(tc)==9:\n",
    "        conn.execute('''update STOCKBASIC set pe={}, pb={}, bk='{}' where ts_code = '{}' '''.format(pe,pb,bk, tc))\n",
    "        # conn.commit()\n",
    "        # print(f'update {i} {tc} {pe} {pb} {bk}')\n",
    "    # break\n",
    "conn.commit()\n",
    "conn.close()\n",
    "print('update finish')\n",
    "\n"
   ],
   "metadata": {
    "collapsed": false,
    "pycharm": {
     "name": "#%%\n"
    }
   }
  },
  {
   "cell_type": "code",
   "execution_count": null,
   "outputs": [],
   "source": [
    "# 查询板块\n",
    "\n",
    "conn = sqlite3.connect('../stocks.db')\n",
    "\n",
    "bks = conn.execute('''select distinct bk from STOCKBASIC''').fetchall()\n",
    "\n",
    "print(len(bks))\n",
    "for bk in bks:\n",
    "    print(bk)\n",
    "\n",
    "conn.close()\n",
    "\n"
   ],
   "metadata": {
    "collapsed": false,
    "pycharm": {
     "name": "#%%\n"
    }
   }
  },
  {
   "cell_type": "code",
   "execution_count": null,
   "metadata": {
    "pycharm": {
     "name": "#%%\n"
    }
   },
   "outputs": [],
   "source": [
    "import sqlite3\n",
    "\n",
    "def select_mv_count(mv):\n",
    "    conn = sqlite3.connect('../stocks.db')\n",
    "    ret = conn.execute('''select count(*) from STOCKBASIC where marketvalue > {}'''.format(mv)).fetchall()\n",
    "    return ret[0][0]\n",
    "\n",
    "\n",
    "\n",
    "mv = [10000,2000, 1000, 500, 100, 50, 10, 0]\n",
    "\n",
    "# 统计各种市值的数量\n",
    "mvcount = [select_mv_count(v) for v in mv]\n",
    "with open('temp/day_marketvalue.csv', 'w') as fs:\n",
    "    fs.write('marketvalue, count\\n')\n",
    "\n",
    "    for i in range(len(mv)):\n",
    "        mvi = mv[i]\n",
    "        mvcounti = mvcount[i]\n",
    "        print('mv > {} count {}'.format(mvi, mvcounti))\n",
    "        # if i > 0:\n",
    "        #     print('{} > mv > {} count {}'.format(mv[i - 1], mvi, mvcounti - mvcount[i - 1]))\n",
    "        fs.write('{},{}\\n'.format(mvi, mvcounti))\n",
    "        pass\n"
   ]
  },
  {
   "cell_type": "code",
   "execution_count": null,
   "metadata": {
    "pycharm": {
     "name": "#%%\n"
    }
   },
   "outputs": [],
   "source": [
    "import matplotlib.pyplot as plt\n",
    "\n",
    "#plt.bar(mv, mvcount)\n",
    "plt.plot(range(len(mvcount)), mvcount)\n",
    "plt.grid()\n",
    "plt.show()\n",
    "\n",
    "\n",
    "\n"
   ]
  }
 ],
 "metadata": {
  "kernelspec": {
   "display_name": "Python 3 (ipykernel)",
   "language": "python",
   "name": "python3"
  },
  "language_info": {
   "codemirror_mode": {
    "name": "ipython",
    "version": 3
   },
   "file_extension": ".py",
   "mimetype": "text/x-python",
   "name": "python",
   "nbconvert_exporter": "python",
   "pygments_lexer": "ipython3",
   "version": "3.9.9"
  }
 },
 "nbformat": 4,
 "nbformat_minor": 1
}