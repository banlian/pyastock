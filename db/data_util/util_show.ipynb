{
 "cells": [
  {
   "cell_type": "code",
   "execution_count": 1,
   "metadata": {
    "collapsed": true
   },
   "outputs": [
    {
     "name": "stdout",
     "output_type": "stream",
     "text": [
      "Index(['.', '代码', '    名称', '..1', '涨幅', '现价', '振幅', '涨跌', '连续涨停天数[20211222]',\n",
      "       '涨停原因类别[20211222]', '涨速', '所属行业', '总金额', '总市值', '总手', '换手', '实体涨幅',\n",
      "       'TTM市盈率', '现均差%', '委比%', '流通市值', '流通比例', '内盘', '外盘', '内外比', '利空', '利好',\n",
      "       '细分行业', '主力净量', '量比', '净利润?', '市净率', '每股盈利', '昨收', '开盘', '开盘涨幅', '最高',\n",
      "       '最低', '5日涨幅', '10日涨幅', '20日涨幅', '年初至今', '买量', '卖量', '笔数', '贡献度', '机构动向',\n",
      "       '异动类型', '总股本', '流通股本', '利润总额', '净利润增长率', '每股净资产', '金叉个数',\n",
      "       '流通股合计占总股本比例%[20211221]', '首次涨停时间[20211222]', '最终涨停时间[20211222]',\n",
      "       '涨停封单额[20211222]', '涨停封成比%[20211222]', '涨停开板次数[20211222]',\n",
      "       '流通市值[20211222]', 'Unnamed: 61'],\n",
      "      dtype='object')\n"
     ]
    }
   ],
   "source": [
    "\n",
    "\n",
    "\n",
    "from data_util.fetch_update_data_by_xlsx import read_ths_xlsx_to_df\n",
    "import pandas as pd\n",
    "\n",
    "df = pd.read_csv('../temp/Table1222.xls', encoding='gbk', sep='\\t')\n",
    "print(df.columns)\n"
   ]
  },
  {
   "cell_type": "code",
   "execution_count": 2,
   "outputs": [
    {
     "name": "stdout",
     "output_type": "stream",
     "text": [
      "代码       object\n",
      "开盘      float64\n",
      "最高      float64\n",
      "最低      float64\n",
      "现价      float64\n",
      "昨收      float64\n",
      "总金额     float64\n",
      "总市值     float64\n",
      "总手      float64\n",
      "换手      float64\n",
      "涨幅      float64\n",
      "所属行业     object\n",
      "dtype: object\n",
      "          代码     开盘     最高     最低     现价     昨收           总金额           总市值  \\\n",
      "0   SZ000001  17.62  17.64  17.30  17.39  17.59  1.701773e+09  3.374689e+11   \n",
      "1   SZ000002  20.29  20.33  19.80  19.86  20.31  1.921113e+09  2.308801e+11   \n",
      "2   SZ000004  19.39  19.87  19.30  19.53  19.17  8.798084e+07  3.046739e+09   \n",
      "3   SZ000005   2.28   2.31   2.25   2.29   2.27  3.009576e+07  2.424049e+09   \n",
      "4   SZ000006   4.58   4.71   4.49   4.51   4.72  1.764988e+08  6.088478e+09   \n",
      "5   SZ000007   5.70   5.74   5.60   5.62   5.62  3.666503e+07  1.947038e+09   \n",
      "6   SZ000008   2.98   2.98   2.81   2.98   2.71  7.493827e+08  8.286770e+09   \n",
      "7   SZ000009  15.04  15.27  14.92  15.10  15.03  7.539477e+08  3.894613e+10   \n",
      "8   SZ000010   3.97   3.99   3.86   3.90   3.95  5.635150e+07  3.197433e+09   \n",
      "9   SZ000011  12.05  12.14  11.69  11.97  12.15  1.595088e+08  7.133870e+09   \n",
      "10  SZ000012   9.62   9.95   9.59   9.82   9.62  2.388182e+08  3.015420e+10   \n",
      "\n",
      "             总手    换手    涨幅   所属行业  \n",
      "0    97692775.0  0.50 -1.14     银行  \n",
      "1    96198591.0  0.99 -2.22  房地产开发  \n",
      "2     4496032.0  3.86  1.88  计算机应用  \n",
      "3    13218504.0  1.25  0.88     环保  \n",
      "4    38580728.0  2.86 -4.45  房地产开发  \n",
      "5     6490350.0  2.10  0.00     零售  \n",
      "6   253276570.0  9.40  9.96  非汽车交运  \n",
      "7    50001544.0  1.96  0.47   电力设备  \n",
      "8    14394565.0  2.76 -1.27   建筑装饰  \n",
      "9    13456585.0  2.56 -1.48  房地产开发  \n",
      "10   24320969.0  1.24  2.08   建筑材料  \n"
     ]
    }
   ],
   "source": [
    "df = df[['代码', '开盘', '最高', '最低', '现价', '昨收', '总金额', '总市值', '总手', '换手', '涨幅', '所属行业']]\n",
    "\n",
    "# df = df[df['总市值']>0]\n",
    "cols = ['开盘', '最高', '最低', '现价', '昨收', '总金额', '换手', '涨幅', '总手', '总市值']\n",
    "\n",
    "df['换手'] = df['换手'].str.rstrip('%')\n",
    "df['涨幅'] = df['涨幅'].str.rstrip('%')\n",
    "\n",
    "\n",
    "for c in cols:\n",
    "    df[c] = pd.to_numeric(df[c], errors='coerce')\n",
    "    pass\n",
    "\n",
    "\n",
    "print(df.dtypes)\n",
    "print(df.head(11))\n"
   ],
   "metadata": {
    "collapsed": false,
    "pycharm": {
     "name": "#%%\n"
    }
   }
  },
  {
   "cell_type": "code",
   "execution_count": 3,
   "outputs": [
    {
     "name": "stdout",
     "output_type": "stream",
     "text": [
      "            代码      开盘      最高      最低      现价      昨收           总金额  \\\n",
      "0     SZ000001   17.62   17.64   17.30   17.39   17.59  1.701773e+09   \n",
      "1     SZ000002   20.29   20.33   19.80   19.86   20.31  1.921113e+09   \n",
      "2     SZ000004   19.39   19.87   19.30   19.53   19.17  8.798084e+07   \n",
      "3     SZ000005    2.28    2.31    2.25    2.29    2.27  3.009576e+07   \n",
      "4     SZ000006    4.58    4.71    4.49    4.51    4.72  1.764988e+08   \n",
      "...        ...     ...     ...     ...     ...     ...           ...   \n",
      "4605  SH688799   38.39   38.74   38.08   38.38   38.28  1.034884e+07   \n",
      "4606  SH688800  138.74  149.90  137.31  138.20  141.50  1.322252e+08   \n",
      "4607  SH688819   43.15   43.28   42.72   42.97   42.97  7.321351e+07   \n",
      "4608  SH688981   53.16   53.25   52.96   53.02   53.08  8.238523e+08   \n",
      "4609  SH689009   63.40   69.00   63.40   67.04   63.38  4.804221e+08   \n",
      "\n",
      "              总市值          总手    换手    涨幅    所属行业  \n",
      "0     3374.689200  97692775.0  0.50 -1.14      银行  \n",
      "1     2308.801100  96198591.0  0.99 -2.22   房地产开发  \n",
      "2       30.467391   4496032.0  3.86  1.88   计算机应用  \n",
      "3       24.240494  13218504.0  1.25  0.88      环保  \n",
      "4       60.884777  38580728.0  2.86 -4.45   房地产开发  \n",
      "...           ...         ...   ...   ...     ...  \n",
      "4605    36.000440    269482.0  1.41  0.26    化学制药  \n",
      "4606   149.256000    931605.0  4.24 -2.33    其他电子  \n",
      "4607   417.711370   1701832.0  1.60  0.00    电力设备  \n",
      "4608  4190.557800  15522821.0  0.83 -0.11  半导体及元件  \n",
      "4609   472.423120   7188220.0  1.62  5.77   非汽车交运  \n",
      "\n",
      "[4585 rows x 12 columns]\n"
     ]
    }
   ],
   "source": [
    "\n",
    "df = df[df['总市值'] > 0]\n",
    "\n",
    "df['总市值'] = df['总市值'] / 1e8\n",
    "print(df)"
   ],
   "metadata": {
    "collapsed": false,
    "pycharm": {
     "name": "#%%\n"
    }
   }
  },
  {
   "cell_type": "code",
   "execution_count": 4,
   "outputs": [
    {
     "name": "stdout",
     "output_type": "stream",
     "text": [
      "0           银行\n",
      "1        房地产开发\n",
      "2        计算机应用\n",
      "3           环保\n",
      "5           零售\n",
      "         ...  \n",
      "1022      农业服务\n",
      "1050     电子化学品\n",
      "1210      专业服务\n",
      "1308    其他社会服务\n",
      "3904     非金属材料\n",
      "Name: 所属行业, Length: 78, dtype: object\n"
     ]
    }
   ],
   "source": [
    "inds = df['所属行业'].drop_duplicates()\n",
    "print(inds)\n"
   ],
   "metadata": {
    "collapsed": false,
    "pycharm": {
     "name": "#%%\n"
    }
   }
  },
  {
   "cell_type": "code",
   "execution_count": 5,
   "outputs": [
    {
     "name": "stdout",
     "output_type": "stream",
     "text": [
      "[('银行', 100433.95891800002), ('房地产开发', 17868.113999999998), ('计算机应用', 28187.161752999975), ('环保', 8663.120416), ('零售', 10290.313709), ('非汽车交运', 6450.5072930000015), ('电力设备', 83214.44159700001), ('建筑装饰', 18154.901401600004), ('建筑材料', 13581.981466999996), ('黑色家电', 1350.231945), ('农产品加工', 7576.906688500001), ('光学光电子', 12751.365313), ('消费电子', 18603.8541907), ('汽车服务', 1156.6263339999998), ('家用轻工', 8142.994610999998), ('电力', 28086.177693), ('医药商业', 3332.3680400000003), ('汽车零部件', 18214.453531000006), ('通信设备', 8936.385882), ('综合', 1285.5072963), ('通用设备', 9146.134991999998), ('保险及其他', 5321.134633999997), ('石油加工贸易', 18983.507582), ('工业金属', 12307.580781), ('其他电子', 2604.1532859999993), ('计算机设备', 11461.607356999999), ('港口航运', 9288.15942), ('机场航运', 6084.421767999999), ('医疗服务', 14920.394197), ('贸易', 1390.362622), ('化学制药', 19009.430519200007), ('传媒', 15068.377537799997), ('专用设备', 16566.6681804), ('证券', 36786.964926), ('化工合成材料', 9353.777529599996), ('白色家电', 12544.808445000002), ('生物制品', 14144.777492000001), ('燃气', 2463.828846000001), ('化学制品', 25524.911799999998), ('中药', 11484.592696), ('酒店及餐饮', 1133.795218), ('公路铁路运输', 6953.4843470000005), ('景点及旅游', 1075.0828345), ('造纸', 1962.982172), ('房地产服务', 536.5599841000001), ('贵金属', 2206.171436), ('化学原料', 9233.395654), ('国防军工', 25481.026631000008), ('美容护理', 5007.901411000001), ('教育', 1295.7686660000002), ('汽车整车', 22384.467191), ('煤炭开采加工', 12693.718061), ('饮料制造', 56664.147913), ('自动化设备', 8390.009176), ('种植业与林业', 1978.9770449999999), ('保险', 23808.964227), ('钢铁', 11995.752445999999), ('金属新材料', 2504.4799860000003), ('半导体及元件', 41139.14468000001), ('食品加工制造', 15948.495442), ('小金属', 13287.495838000003), ('包装印刷', 2573.321904), ('医疗器械', 19144.90245), ('纺织制造', 2802.062537), ('养殖业', 5628.504051000001), ('通信服务', 6822.885201000001), ('物流', 8772.484403000002), ('油气开采及服务', 2988.142322), ('服装家纺', 3629.9585481), ('小家电', 3267.0053190000003), ('互联网电商', 1641.1851900000001), ('厨卫电器', 967.79292), ('仪器仪表', 2025.264966), ('农业服务', 1040.378526), ('电子化学品', 2200.8522700000003), ('专业服务', 1984.2220280000004), ('其他社会服务', 197.0914), ('非金属材料', 750.0209060000001)]\n"
     ]
    }
   ],
   "source": [
    "indmv = []\n",
    "\n",
    "for ind in inds:\n",
    "    dfind = df[df['所属行业'] == ind]\n",
    "\n",
    "    mv = sum(dfind['总市值'])\n",
    "    indmv.append((ind, mv))\n",
    "\n",
    "print(indmv)\n"
   ],
   "metadata": {
    "collapsed": false,
    "pycharm": {
     "name": "#%%\n"
    }
   }
  },
  {
   "cell_type": "code",
   "execution_count": 6,
   "outputs": [
    {
     "name": "stdout",
     "output_type": "stream",
     "text": [
      "[('银行', 100433.95891800002), ('电力设备', 83214.44159700001), ('饮料制造', 56664.147913), ('半导体及元件', 41139.14468000001), ('证券', 36786.964926), ('计算机应用', 28187.161752999975), ('电力', 28086.177693), ('化学制品', 25524.911799999998), ('国防军工', 25481.026631000008), ('保险', 23808.964227), ('汽车整车', 22384.467191), ('医疗器械', 19144.90245), ('化学制药', 19009.430519200007), ('石油加工贸易', 18983.507582), ('消费电子', 18603.8541907), ('汽车零部件', 18214.453531000006), ('建筑装饰', 18154.901401600004), ('房地产开发', 17868.113999999998), ('专用设备', 16566.6681804), ('食品加工制造', 15948.495442), ('传媒', 15068.377537799997), ('医疗服务', 14920.394197), ('生物制品', 14144.777492000001), ('建筑材料', 13581.981466999996), ('小金属', 13287.495838000003), ('光学光电子', 12751.365313), ('煤炭开采加工', 12693.718061), ('白色家电', 12544.808445000002), ('工业金属', 12307.580781), ('钢铁', 11995.752445999999), ('中药', 11484.592696), ('计算机设备', 11461.607356999999), ('零售', 10290.313709), ('化工合成材料', 9353.777529599996), ('港口航运', 9288.15942), ('化学原料', 9233.395654), ('通用设备', 9146.134991999998), ('通信设备', 8936.385882), ('物流', 8772.484403000002), ('环保', 8663.120416), ('自动化设备', 8390.009176), ('家用轻工', 8142.994610999998), ('农产品加工', 7576.906688500001), ('公路铁路运输', 6953.4843470000005), ('通信服务', 6822.885201000001), ('非汽车交运', 6450.5072930000015), ('机场航运', 6084.421767999999), ('养殖业', 5628.504051000001), ('保险及其他', 5321.134633999997), ('美容护理', 5007.901411000001), ('服装家纺', 3629.9585481), ('医药商业', 3332.3680400000003), ('小家电', 3267.0053190000003), ('油气开采及服务', 2988.142322), ('纺织制造', 2802.062537), ('其他电子', 2604.1532859999993), ('包装印刷', 2573.321904), ('金属新材料', 2504.4799860000003), ('燃气', 2463.828846000001), ('贵金属', 2206.171436), ('电子化学品', 2200.8522700000003), ('仪器仪表', 2025.264966), ('专业服务', 1984.2220280000004), ('种植业与林业', 1978.9770449999999), ('造纸', 1962.982172), ('互联网电商', 1641.1851900000001), ('贸易', 1390.362622), ('黑色家电', 1350.231945), ('教育', 1295.7686660000002), ('综合', 1285.5072963), ('汽车服务', 1156.6263339999998), ('酒店及餐饮', 1133.795218), ('景点及旅游', 1075.0828345), ('农业服务', 1040.378526), ('厨卫电器', 967.79292), ('非金属材料', 750.0209060000001), ('房地产服务', 536.5599841000001), ('其他社会服务', 197.0914)]\n"
     ]
    }
   ],
   "source": [
    "indmv.sort(key=lambda x: x[1], reverse=True)\n",
    "print(indmv)\n"
   ],
   "metadata": {
    "collapsed": false,
    "pycharm": {
     "name": "#%%\n"
    }
   }
  },
  {
   "cell_type": "code",
   "execution_count": 7,
   "outputs": [
    {
     "name": "stdout",
     "output_type": "stream",
     "text": [
      "78\n",
      "{'银行': 41, '电力设备': 281, '饮料制造': 46, '半导体及元件': 129, '证券': 48, '计算机应用': 216, '电力': 93, '化学制品': 187, '国防军工': 116, '保险': 7, '汽车整车': 23, '医疗器械': 102, '化学制药': 133, '石油加工贸易': 24, '消费电子': 81, '汽车零部件': 181, '建筑装饰': 139, '房地产开发': 111, '专用设备': 173, '食品加工制造': 71, '传媒': 138, '医疗服务': 40, '生物制品': 41, '建筑材料': 77, '小金属': 35, '光学光电子': 95, '煤炭开采加工': 34, '白色家电': 32, '工业金属': 61, '钢铁': 44, '中药': 71, '计算机设备': 69, '零售': 77, '化工合成材料': 100, '港口航运': 31, '化学原料': 53, '通用设备': 140, '通信设备': 77, '物流': 45, '环保': 120, '自动化设备': 63, '家用轻工': 90, '农产品加工': 33, '公路铁路运输': 35, '通信服务': 31, '非汽车交运': 43, '机场航运': 12, '养殖业': 27, '保险及其他': 33, '美容护理': 29, '服装家纺': 62, '医药商业': 28, '小家电': 20, '油气开采及服务': 20, '纺织制造': 34, '其他电子': 32, '包装印刷': 40, '金属新材料': 23, '燃气': 27, '贵金属': 10, '电子化学品': 23, '仪器仪表': 39, '专业服务': 22, '种植业与林业': 21, '造纸': 22, '互联网电商': 15, '贸易': 19, '黑色家电': 11, '教育': 21, '综合': 32, '汽车服务': 14, '酒店及餐饮': 11, '景点及旅游': 22, '农业服务': 13, '厨卫电器': 9, '非金属材料': 6, '房地产服务': 8, '其他社会服务': 3}\n"
     ]
    }
   ],
   "source": [
    "indcount = len(indmv)\n",
    "print(indcount)\n",
    "\n",
    "indstockcount = {}\n",
    "inddfs = {}\n",
    "for ind in indmv:\n",
    "    inddf = df[df['所属行业'] == ind[0]]\n",
    "    indstockcount[ind[0]] = inddf.shape[0]\n",
    "    inddfs[ind[0]] = inddf\n",
    "\n",
    "print(indstockcount)\n"
   ],
   "metadata": {
    "collapsed": false,
    "pycharm": {
     "name": "#%%\n"
    }
   }
  },
  {
   "cell_type": "code",
   "execution_count": 8,
   "outputs": [
    {
     "name": "stdout",
     "output_type": "stream",
     "text": [
      "sumindstockcount 4585\n",
      "maxindstockcount 281\n",
      "industrycount 78\n"
     ]
    }
   ],
   "source": [
    "import math\n",
    "\n",
    "sumindstockcount = sum(indstockcount.values())\n",
    "maxindstockcount = max(indstockcount.values())\n",
    "industrycount = len(indmv)\n",
    "print('sumindstockcount', sumindstockcount)\n",
    "print('maxindstockcount', maxindstockcount)\n",
    "print('industrycount', industrycount)"
   ],
   "metadata": {
    "collapsed": false,
    "pycharm": {
     "name": "#%%\n"
    }
   }
  },
  {
   "cell_type": "code",
   "execution_count": 9,
   "outputs": [
    {
     "data": {
      "text/plain": "<matplotlib.image.AxesImage at 0x245c67c0280>"
     },
     "execution_count": 9,
     "metadata": {},
     "output_type": "execute_result"
    },
    {
     "data": {
      "text/plain": "<Figure size 432x288 with 1 Axes>",
      "image/png": "[encoded data removed]"
     },
     "metadata": {
      "needs_background": "light"
     },
     "output_type": "display_data"
    }
   ],
   "source": [
    "from PIL import Image, ImageDraw\n",
    "\n",
    "width = industrycount * 10\n",
    "height = maxindstockcount + 20\n",
    "\n",
    "img = Image.new('RGB', size=(width, height), color=(100,100,100))\n",
    "px = img.load()\n",
    "\n",
    "\n",
    "for ind in indmv:\n",
    "    col = indmv.index(ind)\n",
    "\n",
    "    industry = ind[0]\n",
    "    inddf = inddfs[industry]\n",
    "    if not inddf.empty:\n",
    "        inddf.sort_values(by='总市值', ascending=False)\n",
    "        for row in range(inddf.shape[0]):\n",
    "            pct = inddf['涨幅'].values[row]\n",
    "            c = (200,0,0) if pct > 0 else (0,200,0)\n",
    "            #print(row, col, pct, c)\n",
    "            if pct > 9.9 or pct < -9.9 or math.isnan(pct):\n",
    "                for i in range(10):\n",
    "                    px[col * 10 + i, row] = c\n",
    "                pass\n",
    "            else:\n",
    "                pct = int(pct)\n",
    "                for i in range(abs(pct)):\n",
    "                    px[col * 10 + i, row] = c\n",
    "            pass\n",
    "        for i in range(10):\n",
    "            px[col * 10 + i, inddf.shape[0]+1] = (0,0,0)\n",
    "            px[col * 10 + i, inddf.shape[0]+2] = (0,0,0)\n",
    "            px[col * 10 + i, inddf.shape[0]+3] = (0,0,0)\n",
    "img.save('test.bmp')\n",
    "# img.show()\n",
    "import matplotlib.pyplot as plt\n",
    "\n",
    "plt.imshow(img)\n"
   ],
   "metadata": {
    "collapsed": false,
    "pycharm": {
     "name": "#%%\n"
    }
   }
  },
  {
   "cell_type": "code",
   "execution_count": 10,
   "outputs": [
    {
     "data": {
      "text/plain": "<Figure size 432x288 with 1 Axes>",
      "image/png": "[encoded data removed]"
     },
     "metadata": {
      "needs_background": "light"
     },
     "output_type": "display_data"
    }
   ],
   "source": [
    "import matplotlib.pyplot as plt\n",
    "\n",
    "\n",
    "\n",
    "plt.plot([inddf.shape[0] for inddf in inddfs.values()], '-x')\n",
    "plt.show()\n",
    "\n",
    "\n",
    "\n",
    "\n",
    "\n",
    "\n",
    "\n"
   ],
   "metadata": {
    "collapsed": false,
    "pycharm": {
     "name": "#%%\n"
    }
   }
  }
 ],
 "metadata": {
  "kernelspec": {
   "display_name": "Python 3",
   "language": "python",
   "name": "python3"
  },
  "language_info": {
   "codemirror_mode": {
    "name": "ipython",
    "version": 2
   },
   "file_extension": ".py",
   "mimetype": "text/x-python",
   "name": "python",
   "nbconvert_exporter": "python",
   "pygments_lexer": "ipython2",
   "version": "2.7.6"
  }
 },
 "nbformat": 4,
 "nbformat_minor": 0
}
