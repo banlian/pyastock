{
 "cells": [
  {
   "cell_type": "code",
   "execution_count": 42,
   "metadata": {
    "collapsed": true
   },
   "outputs": [
    {
     "name": "stdout",
     "output_type": "stream",
     "text": [
      "telecomadmin77225509\n"
     ]
    }
   ],
   "source": [
    "t = '122&117&120&107&111&'\n",
    "t = \"120&105&112&105&103&115&113&101&104&113&109&114&55&55&50&50&53&53&48&57&\"\n",
    "\n",
    "vals = t.split('&')[:-1]\n",
    "\n",
    "valsnew = []\n",
    "\n",
    "for v in vals:\n",
    "    vn = int(v)\n",
    "    if vn > 100:\n",
    "        valsnew.append(vn-4)\n",
    "    else:\n",
    "        valsnew.append(vn)\n",
    "\n",
    "pw = ''.join([chr(v) for v in valsnew])\n",
    "print(pw)\n"
   ]
  },
  {
   "cell_type": "code",
   "execution_count": 31,
   "outputs": [
    {
     "name": "stdout",
     "output_type": "stream",
     "text": [
      "48\n",
      "49\n",
      "50\n",
      "51\n",
      "52\n",
      "53\n",
      "54\n",
      "55\n",
      "56\n",
      "57\n"
     ]
    }
   ],
   "source": [
    "for c in '0123456789':\n",
    "    print(ord(c))"
   ],
   "metadata": {
    "collapsed": false,
    "pycharm": {
     "name": "#%%\n"
    }
   }
  }
 ],
 "metadata": {
  "kernelspec": {
   "display_name": "Python 3",
   "language": "python",
   "name": "python3"
  },
  "language_info": {
   "codemirror_mode": {
    "name": "ipython",
    "version": 2
   },
   "file_extension": ".py",
   "mimetype": "text/x-python",
   "name": "python",
   "nbconvert_exporter": "python",
   "pygments_lexer": "ipython2",
   "version": "2.7.6"
  }
 },
 "nbformat": 4,
 "nbformat_minor": 0
}